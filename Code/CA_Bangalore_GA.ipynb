{
  "cells": [
    {
      "cell_type": "code",
      "execution_count": null,
      "metadata": {
        "colab": {
          "background_save": true,
          "base_uri": "https://localhost:8080/"
        },
        "id": "zFp539dgl39M",
        "outputId": "fd26f0d8-e4e0-4bf6-b2fd-3fe1b543c845"
      },
      "outputs": [
        {
          "name": "stdout",
          "output_type": "stream",
          "text": [
            "Looking in indexes: https://pypi.org/simple, https://us-python.pkg.dev/colab-wheels/public/simple/\n",
            "Collecting pyrsgis\n",
            "  Downloading pyrsgis-0.4.1-py3-none-any.whl (25 kB)\n",
            "Installing collected packages: pyrsgis\n",
            "Successfully installed pyrsgis-0.4.1\n",
            "Looking in indexes: https://pypi.org/simple, https://us-python.pkg.dev/colab-wheels/public/simple/\n",
            "Collecting geneticalgorithm\n",
            "  Downloading geneticalgorithm-1.0.2-py3-none-any.whl (16 kB)\n",
            "Requirement already satisfied: numpy in /usr/local/lib/python3.9/dist-packages (from geneticalgorithm) (1.22.4)\n",
            "Collecting func-timeout\n",
            "  Downloading func_timeout-4.3.5.tar.gz (44 kB)\n",
            "\u001b[2K     \u001b[90m━━━━━━━━━━━━━━━━━━━━━━━━━━━━━━━━━━━━━━━━\u001b[0m \u001b[32m44.3/44.3 kB\u001b[0m \u001b[31m2.6 MB/s\u001b[0m eta \u001b[36m0:00:00\u001b[0m\n",
            "\u001b[?25h  Preparing metadata (setup.py) ... \u001b[?25l\u001b[?25hdone\n",
            "Building wheels for collected packages: func-timeout\n",
            "  Building wheel for func-timeout (setup.py) ... \u001b[?25l\u001b[?25hdone\n",
            "  Created wheel for func-timeout: filename=func_timeout-4.3.5-py3-none-any.whl size=15094 sha256=ae643e710e131cee551db5cf93d3102c66be4e4e90e521f4d5c62528f15901c1\n",
            "  Stored in directory: /root/.cache/pip/wheels/ef/91/3f/17cbea1e83d17cc01bd2d66a0d59e65301bcb2d59f2f6a62ab\n",
            "Successfully built func-timeout\n",
            "Installing collected packages: func-timeout, geneticalgorithm\n",
            "Successfully installed func-timeout-4.3.5 geneticalgorithm-1.0.2\n"
          ]
        }
      ],
      "source": [
        "!pip install pyrsgis\n",
        "!pip install geneticalgorithm"
      ]
    },
    {
      "cell_type": "code",
      "execution_count": null,
      "metadata": {
        "id": "3dJvPuIj3nJm"
      },
      "outputs": [],
      "source": [
        "import os, math, numpy as np\n",
        "from pyrsgis import raster, convert\n",
        "from osgeo import gdal\n",
        "from google.colab import drive\n",
        "from copy import deepcopy\n",
        "from skimage.metrics import structural_similarity as ssim\n",
        "from geneticalgorithm import geneticalgorithm as ga\n",
        "import random"
      ]
    },
    {
      "cell_type": "code",
      "execution_count": null,
      "metadata": {
        "colab": {
          "base_uri": "https://localhost:8080/"
        },
        "id": "zAvHDdBE3kxD",
        "outputId": "12eef7f2-9e63-4f08-fd93-4fdbe12cb5c5"
      },
      "outputs": [
        {
          "name": "stdout",
          "output_type": "stream",
          "text": [
            "Mounted at /content/drive\n"
          ]
        }
      ],
      "source": [
        "drive.mount('/content/drive')"
      ]
    },
    {
      "cell_type": "code",
      "execution_count": null,
      "metadata": {
        "colab": {
          "base_uri": "https://localhost:8080/"
        },
        "id": "Swu2DTF23tL2",
        "outputId": "a87428c7-3e49-41f0-9f0e-3847c7eae009"
      },
      "outputs": [
        {
          "name": "stdout",
          "output_type": "stream",
          "text": [
            "Input File size matched\n",
            "\n",
            "1266 1177\n",
            "1266 1177\n",
            "1266 1177\n",
            "1266 1177\n"
          ]
        }
      ],
      "source": [
        "f2017 = \"/content/drive/MyDrive/Capstone_Data/Bangalore_data/2017.tif\"\n",
        "f2020 = \"/content/drive/MyDrive/Capstone_Data/Bangalore_data/2020.tif\"\n",
        "road_network_path = \"/content/drive/MyDrive/Capstone_Data/Bangalore_data/road.tif\"\n",
        "pop = \"/content/drive/MyDrive/Capstone_Data/Bangalore_data/pop.tif\"\n",
        "metro = \"/content/drive/MyDrive/Capstone_Data/Bangalore_data/metro.tif\"\n",
        "\n",
        "ds1, arr1 = raster.read(f2017,bands=1)\n",
        "ds2,arr2 = raster.read(f2020,bands =1)\n",
        "road_ds,road_arr = raster.read(road_network_path,bands=1)\n",
        "pop_ds, pop_arr = raster.read(pop,bands=1)\n",
        "metro_ds,metro_arr = raster.read(metro,bands=1)\n",
        "\n",
        "\n",
        "if(ds1.RasterXSize == ds2.RasterXSize and ds1.RasterYSize == ds2.RasterYSize and ds1.RasterYSize == road_ds.RasterYSize and  ds1.RasterXSize == road_ds.RasterXSize):\n",
        "  print(\"Input File size matched\\n\")\n",
        "else:\n",
        "  print(\"Input Files are not of same size\\n\")\n",
        "  exit()\n",
        "\n",
        "no_rows = ds1.RasterYSize\n",
        "no_cols = ds1.RasterXSize\n",
        "\n",
        "print(no_rows,no_cols)\n",
        "print(road_ds.RasterYSize,road_ds.RasterXSize)\n",
        "print(pop_ds.RasterYSize,pop_ds.RasterXSize)\n",
        "print(metro_ds.RasterYSize,metro_ds.RasterXSize)"
      ]
    },
    {
      "cell_type": "code",
      "execution_count": null,
      "metadata": {
        "colab": {
          "background_save": true,
          "base_uri": "https://localhost:8080/"
        },
        "id": "GznEcHmXud25",
        "outputId": "73e2c16a-0be4-489b-fb69-2e7f0cd9d4c7"
      },
      "outputs": [
        {
          "name": "stdout",
          "output_type": "stream",
          "text": [
            " The best solution found:\n",
            " [ 7.71459601e+00  4.92622043e+02 -8.26245078e+00  1.90726822e+02\n",
            "  1.34350184e-03]\n",
            "\n",
            " Objective function:\n",
            " -0.5435097047802453\n"
          ]
        },
        {
          "data": {
            "image/png": "[encoded data removed]",
            "text/plain": [
              "<Figure size 432x288 with 1 Axes>"
            ]
          },
          "metadata": {},
          "output_type": "display_data"
        }
      ],
      "source": [
        "# Define the fitness function that evaluates the predicted output\n",
        "def fitness_function(solution):\n",
        "    builtUpThreshold = solution[0]\n",
        "    distFromRoad = solution[1]\n",
        "    popThreshold = solution[2]\n",
        "    metroThreshold = solution[3]\n",
        "    errorThreshold = solution[4]\n",
        "\n",
        "    kernelSize = 3\n",
        "    predicted_arr = deepcopy(arr1)\n",
        "    sideMargin = math.ceil(kernelSize/2)\n",
        "\n",
        "    for y in range(sideMargin,no_rows-(sideMargin-1)):\n",
        "        for x in range(sideMargin,no_cols-(sideMargin-1)):\n",
        "            kernel = arr1[y-(sideMargin-1):y+(sideMargin), x-(sideMargin-1):x+(sideMargin)]\n",
        "            builtupCount = sum(sum(kernel==1))\n",
        "\n",
        "            if (builtupCount >= builtUpThreshold and road_arr[y,x]<=distFromRoad and arr1[y,x]!=3 and pop_arr[y,x]>=popThreshold and metro_arr[y,x]>=metroThreshold):\n",
        "                predicted_arr[y,x]=1\n",
        "\n",
        "            if(random.random()<errorThreshold and arr1[y,x]==2):\n",
        "              predicted_arr[y,x]=4\n",
        "\n",
        "\n",
        "    return -ssim(arr2,predicted_arr,data_range=4)\n",
        "\n",
        "algo_param = {'max_num_iteration': 30,\\\n",
        "                   'population_size': 30,\\\n",
        "                   'mutation_probability':0.1,\\\n",
        "                   'elit_ratio': 0.01,\\\n",
        "                   'crossover_probability': 0.5,\\\n",
        "                   'parents_portion': 0.3,\\\n",
        "                   'crossover_type':'uniform',\\\n",
        "                   'max_iteration_without_improv':None}\n",
        "\n",
        "# Initialize the genetic algorithm\n",
        "ga_solver = ga(function=fitness_function, dimension=5, variable_type='real',\n",
        "               variable_boundaries= np.array([[1,9], [100,500],[-200,100],[100,400],[0,1]]),\n",
        "               function_timeout= 50,\n",
        "               algorithm_parameters = algo_param)\n",
        "\n",
        "ga_solver.run()"
      ]
    },
    {
      "cell_type": "code",
      "execution_count": null,
      "metadata": {
        "id": "W30c1XRhN2r9"
      },
      "outputs": [],
      "source": [
        "kernelSize = 3\n",
        "predicted_arr = deepcopy(arr1)\n",
        "sideMargin = math.ceil(kernelSize/2)\n",
        "builtUpThreshold = ga_solver.best_variable[0]\n",
        "distFromRoad = ga_solver.best_variable[1]\n",
        "popThreshold = ga_solver.best_variable[2]\n",
        "metroThreshold = ga_solver.best_variable[3]\n",
        "errorThreshold = ga_solver.best_variable[4]\n",
        "\n",
        "for y in range(sideMargin,no_rows-(sideMargin-1)):\n",
        "    for x in range(sideMargin,no_cols-(sideMargin-1)):\n",
        "        kernel = arr1[y-(sideMargin-1):y+(sideMargin), x-(sideMargin-1):x+(sideMargin)]\n",
        "        builtupCount = sum(sum(kernel==1))\n",
        "\n",
        "        if (builtupCount >= builtUpThreshold and road_arr[y,x]<=distFromRoad and arr1[y,x]!=3 and pop_arr[y,x]>=popThreshold and metro_arr[y,x]>=metroThreshold):\n",
        "            predicted_arr[y,x]=1\n",
        "\n",
        "        if(arr1[y,x]==2 or arr1[y,x]==4):\n",
        "                if(random.random()<errorThreshold):\n",
        "                    if(arr1[y,x]==2):\n",
        "                        predicted_arr[y,x]=4\n",
        "                    else:\n",
        "                        predicted_arr[y,x]=2\n",
        "\n",
        "def exportPredicted(outFileName):\n",
        "    driver = gdal.GetDriverByName(\"GTiff\")\n",
        "    outdata = driver.Create(outFileName, no_cols, no_rows, 1, gdal.GDT_UInt16) # option: GDT_UInt16, GDT_Float32\n",
        "    outdata.SetGeoTransform(ds1.GetGeoTransform())\n",
        "    outdata.SetProjection(ds1.GetProjection())\n",
        "    outdata.GetRasterBand(1).WriteArray(predicted_arr)\n",
        "    outdata.GetRasterBand(1).SetNoDataValue(0)\n",
        "    outdata.FlushCache()\n",
        "    outdata = None\n",
        "\n",
        "print(\"SSI-Metric:\", ssim(arr2,predicted_arr,data_range=4))\n",
        "#exportPredicted(\"GA_errorThreshold_2020.tif\")\n"
      ]
    }
  ],
  "metadata": {
    "colab": {
      "provenance": []
    },
    "gpuClass": "standard",
    "kernelspec": {
      "display_name": "Python 3",
      "name": "python3"
    },
    "language_info": {
      "name": "python"
    }
  },
  "nbformat": 4,
  "nbformat_minor": 0
}