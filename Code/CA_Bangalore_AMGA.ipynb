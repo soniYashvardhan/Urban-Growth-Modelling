{
  "nbformat": 4,
  "nbformat_minor": 0,
  "metadata": {
    "colab": {
      "provenance": []
    },
    "kernelspec": {
      "name": "python3",
      "display_name": "Python 3"
    },
    "language_info": {
      "name": "python"
    }
  },
  "cells": [
    {
      "cell_type": "code",
      "execution_count": null,
      "metadata": {
        "colab": {
          "base_uri": "https://localhost:8080/"
        },
        "id": "u7KvYVd1OxsV",
        "outputId": "5c3c56db-ec04-411f-becf-19202eb3fe73"
      },
      "outputs": [
        {
          "output_type": "stream",
          "name": "stdout",
          "text": [
            "Looking in indexes: https://pypi.org/simple, https://us-python.pkg.dev/colab-wheels/public/simple/\n",
            "Collecting pyrsgis\n",
            "  Downloading pyrsgis-0.4.1-py3-none-any.whl (25 kB)\n",
            "Installing collected packages: pyrsgis\n",
            "Successfully installed pyrsgis-0.4.1\n",
            "Looking in indexes: https://pypi.org/simple, https://us-python.pkg.dev/colab-wheels/public/simple/\n",
            "Collecting pygad\n",
            "  Downloading pygad-2.19.2-py3-none-any.whl (61 kB)\n",
            "\u001b[2K     \u001b[90m━━━━━━━━━━━━━━━━━━━━━━━━━━━━━━━━━━━━━━━━\u001b[0m \u001b[32m61.7/61.7 KB\u001b[0m \u001b[31m6.4 MB/s\u001b[0m eta \u001b[36m0:00:00\u001b[0m\n",
            "\u001b[?25hRequirement already satisfied: cloudpickle in /usr/local/lib/python3.9/dist-packages (from pygad) (2.2.1)\n",
            "Requirement already satisfied: matplotlib in /usr/local/lib/python3.9/dist-packages (from pygad) (3.7.1)\n",
            "Requirement already satisfied: numpy in /usr/local/lib/python3.9/dist-packages (from pygad) (1.22.4)\n",
            "Requirement already satisfied: fonttools>=4.22.0 in /usr/local/lib/python3.9/dist-packages (from matplotlib->pygad) (4.39.2)\n",
            "Requirement already satisfied: kiwisolver>=1.0.1 in /usr/local/lib/python3.9/dist-packages (from matplotlib->pygad) (1.4.4)\n",
            "Requirement already satisfied: cycler>=0.10 in /usr/local/lib/python3.9/dist-packages (from matplotlib->pygad) (0.11.0)\n",
            "Requirement already satisfied: python-dateutil>=2.7 in /usr/local/lib/python3.9/dist-packages (from matplotlib->pygad) (2.8.2)\n",
            "Requirement already satisfied: importlib-resources>=3.2.0 in /usr/local/lib/python3.9/dist-packages (from matplotlib->pygad) (5.12.0)\n",
            "Requirement already satisfied: pillow>=6.2.0 in /usr/local/lib/python3.9/dist-packages (from matplotlib->pygad) (8.4.0)\n",
            "Requirement already satisfied: packaging>=20.0 in /usr/local/lib/python3.9/dist-packages (from matplotlib->pygad) (23.0)\n",
            "Requirement already satisfied: contourpy>=1.0.1 in /usr/local/lib/python3.9/dist-packages (from matplotlib->pygad) (1.0.7)\n",
            "Requirement already satisfied: pyparsing>=2.3.1 in /usr/local/lib/python3.9/dist-packages (from matplotlib->pygad) (3.0.9)\n",
            "Requirement already satisfied: zipp>=3.1.0 in /usr/local/lib/python3.9/dist-packages (from importlib-resources>=3.2.0->matplotlib->pygad) (3.15.0)\n",
            "Requirement already satisfied: six>=1.5 in /usr/local/lib/python3.9/dist-packages (from python-dateutil>=2.7->matplotlib->pygad) (1.16.0)\n",
            "Installing collected packages: pygad\n",
            "Successfully installed pygad-2.19.2\n"
          ]
        }
      ],
      "source": [
        "!pip install pyrsgis\n",
        "!pip install pygad"
      ]
    },
    {
      "cell_type": "code",
      "source": [
        "import numpy as np\n",
        "import math\n",
        "from copy import deepcopy\n",
        "from pyrsgis import raster\n",
        "from skimage.metrics import structural_similarity as ssim\n",
        "from pygad import GA\n",
        "from osgeo import gdal\n",
        "from google.colab import drive"
      ],
      "metadata": {
        "id": "F2NcfEVDPOKG"
      },
      "execution_count": null,
      "outputs": []
    },
    {
      "cell_type": "code",
      "source": [
        "drive.mount('/content/drive')"
      ],
      "metadata": {
        "colab": {
          "base_uri": "https://localhost:8080/"
        },
        "id": "92y_5T7PPE3O",
        "outputId": "c10407b5-49bf-4134-ff85-84c777bd1c33"
      },
      "execution_count": null,
      "outputs": [
        {
          "output_type": "stream",
          "name": "stdout",
          "text": [
            "Mounted at /content/drive\n"
          ]
        }
      ]
    },
    {
      "cell_type": "code",
      "source": [
        "f2017 = \"/content/drive/MyDrive/Capstone_Data/Bangalore_data/2017.tif\"\n",
        "f2020 = \"/content/drive/MyDrive/Capstone_Data/Bangalore_data/2020.tif\"\n",
        "road_network_path = \"/content/drive/MyDrive/Capstone_Data/Bangalore_data/road.tif\"\n",
        "pop = \"/content/drive/MyDrive/Capstone_Data/Bangalore_data/pop.tif\"\n",
        "metro = \"/content/drive/MyDrive/Capstone_Data/Bangalore_data/metro.tif\"\n",
        "\n",
        "ds1, arr1 = raster.read(f2017,bands=1)\n",
        "ds2,arr2 = raster.read(f2020,bands =1)\n",
        "road_ds,road_arr = raster.read(road_network_path,bands=1)\n",
        "pop_ds, pop_arr = raster.read(pop,bands=1)\n",
        "metro_ds,metro_arr = raster.read(metro,bands=1)\n",
        "\n",
        "\n",
        "if(ds1.RasterXSize == ds2.RasterXSize and ds1.RasterYSize == ds2.RasterYSize and ds1.RasterYSize == road_ds.RasterYSize and  ds1.RasterXSize == road_ds.RasterXSize):\n",
        "  print(\"Input File size matched\\n\")\n",
        "else:\n",
        "  print(\"Input Files are not of same size\\n\")\n",
        "  exit()\n"
      ],
      "metadata": {
        "colab": {
          "base_uri": "https://localhost:8080/"
        },
        "id": "eLJBCEFBPO9S",
        "outputId": "8effd418-742f-40a4-96b3-ed348c569218"
      },
      "execution_count": null,
      "outputs": [
        {
          "output_type": "stream",
          "name": "stdout",
          "text": [
            "Input File size matched\n",
            "\n"
          ]
        }
      ]
    },
    {
      "cell_type": "code",
      "source": [
        "def fitness_function(solution,solution_idx):\n",
        "    builtUpThreshold = solution[0]\n",
        "    distFromRoad = solution[1]\n",
        "    popThreshold = solution[2]\n",
        "    metroThreshold = solution[3]\n",
        "\n",
        "\n",
        "    kernelSize = 3\n",
        "    predicted_arr = deepcopy(arr1)\n",
        "    sideMargin = math.ceil(kernelSize/2)\n",
        "\n",
        "    for y in range(sideMargin,no_rows-(sideMargin-1)):\n",
        "        for x in range(sideMargin,no_cols-(sideMargin-1)):\n",
        "            kernel = arr1[y-(sideMargin-1):y+(sideMargin), x-(sideMargin-1):x+(sideMargin)]\n",
        "            builtupCount = sum(sum(kernel==1))\n",
        "            if (builtupCount >= builtUpThreshold and road_arr[y,x]<=distFromRoad and arr1[y,x]!=3 and pop_arr[y,x]>=popThreshold and metro_arr[y,x]>=metroThreshold):\n",
        "                predicted_arr[y,x]=1\n",
        "\n",
        "\n",
        "    return -ssim(arr2,predicted_arr,data_range=4)\n",
        "\n",
        "\n",
        "# Define the initial GA parameters\n",
        "initial_algo_param = {'max_num_iteration': 10,\n",
        "                      'population_size': 30,\n",
        "                      'mutation_probability': 0.1,\n",
        "                      'elit_ratio': 0.01,\n",
        "                      'crossover_probability': 0.5,\n",
        "                      'parents_portion': 0.3,\n",
        "                      'crossover_type': 'uniform',\n",
        "                      'max_iteration_without_improv': None}"
      ],
      "metadata": {
        "id": "dZ_c3IQqPb1W"
      },
      "execution_count": null,
      "outputs": []
    },
    {
      "cell_type": "code",
      "source": [
        "#Create an instance of GA-class\n",
        "ga_instance = GA (num_generations= 10,\n",
        "                  num_parents_mating= int(initial_algo_param['population_size']*initial_algo_param['parents_portion']),\n",
        "                  fitness_func= fitness_function,\n",
        "\n",
        "                  sol_per_pop= 30,\n",
        "                  num_genes=4,\n",
        "\n",
        "                  init_range_low=  -100,\n",
        "                  init_range_high= 1000,\n",
        "                  parent_selection_type='sss',\n",
        "\n",
        "                  mutation_type = \"adaptive\",\n",
        "                  mutation_probability=[0.6,0.2])\n",
        "\n",
        "#Run the GA\n",
        "ga_instance.run()\n",
        "\n",
        "ga_instance.plot_result()"
      ],
      "metadata": {
        "id": "b7E0Q764RXur"
      },
      "execution_count": null,
      "outputs": []
    },
    {
      "cell_type": "code",
      "source": [
        "best_solution, best_fitness = ga_instance.best_solution()\n",
        "\n",
        "print(\"Best solution:\", best_solution)\n",
        "print(\"Best fitness value:\", best_fitness)"
      ],
      "metadata": {
        "id": "BDKiEOZXTDS5"
      },
      "execution_count": null,
      "outputs": []
    },
    {
      "cell_type": "code",
      "source": [
        "no_rows = ds1.RasterYSize\n",
        "no_cols = ds1.RasterXSize\n",
        "kernelSize = 3\n",
        "predicted_arr = deepcopy(arr1)\n",
        "sideMargin = math.ceil(kernelSize/2)\n",
        "\n",
        "builtUpThreshold = best_solution[0]\n",
        "distFromRoad = best_solution[1]\n",
        "popThreshold = best_solution[2]\n",
        "metroThreshold = best_solution[3]\n",
        "\n",
        "for y in range(sideMargin,no_rows-(sideMargin-1)):\n",
        "    for x in range(sideMargin,no_cols-(sideMargin-1)):\n",
        "        kernel = arr1[y-(sideMargin-1):y+(sideMargin), x-(sideMargin-1):x+(sideMargin)]\n",
        "        builtupCount = sum(sum(kernel==1))\n",
        "        if (builtupCount >= builtUpThreshold and road_arr[y,x]<=distFromRoad and arr1[y,x]!=3):\n",
        "            predicted_arr[y,x]=1\n",
        "\n",
        "def exportPredicted(outFileName):\n",
        "    driver = gdal.GetDriverByName(\"GTiff\")\n",
        "    outdata = driver.Create(outFileName, no_cols, no_rows, 1, gdal.GDT_UInt16) # option: GDT_UInt16, GDT_Float32\n",
        "    outdata.SetGeoTransform(ds1.GetGeoTransform())\n",
        "    outdata.SetProjection(ds1.GetProjection())\n",
        "    outdata.GetRasterBand(1).WriteArray(predicted_arr)\n",
        "    outdata.GetRasterBand(1).SetNoDataValue(0)\n",
        "    outdata.FlushCache()\n",
        "    outdata = None\n",
        "\n",
        "print(\"SSIM:\", ssim(arr2,predicted_arr,data_range=4))\n",
        "exportPredicted(\"Bangalore_AMGA_2020.tif\")"
      ],
      "metadata": {
        "id": "SsfG4JzpQ9m1"
      },
      "execution_count": null,
      "outputs": []
    }
  ]
}