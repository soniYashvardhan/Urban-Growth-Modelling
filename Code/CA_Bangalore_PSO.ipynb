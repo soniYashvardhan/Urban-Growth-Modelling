{
  "nbformat": 4,
  "nbformat_minor": 0,
  "metadata": {
    "colab": {
      "provenance": []
    },
    "kernelspec": {
      "name": "python3",
      "display_name": "Python 3"
    },
    "language_info": {
      "name": "python"
    }
  },
  "cells": [
    {
      "cell_type": "code",
      "execution_count": null,
      "metadata": {
        "colab": {
          "base_uri": "https://localhost:8080/"
        },
        "id": "x7j29kCNf000",
        "outputId": "b597ccf0-9b7f-4ec1-fa01-a04ff4d35211"
      },
      "outputs": [
        {
          "output_type": "stream",
          "name": "stdout",
          "text": [
            "Looking in indexes: https://pypi.org/simple, https://us-python.pkg.dev/colab-wheels/public/simple/\n",
            "Collecting pyrsgis\n",
            "  Downloading pyrsgis-0.4.1-py3-none-any.whl (25 kB)\n",
            "Installing collected packages: pyrsgis\n",
            "Successfully installed pyrsgis-0.4.1\n",
            "Looking in indexes: https://pypi.org/simple, https://us-python.pkg.dev/colab-wheels/public/simple/\n",
            "Collecting pyswarm\n",
            "  Downloading pyswarm-0.6.tar.gz (4.3 kB)\n",
            "  Preparing metadata (setup.py) ... \u001b[?25l\u001b[?25hdone\n",
            "Requirement already satisfied: numpy in /usr/local/lib/python3.9/dist-packages (from pyswarm) (1.22.4)\n",
            "Building wheels for collected packages: pyswarm\n",
            "  Building wheel for pyswarm (setup.py) ... \u001b[?25l\u001b[?25hdone\n",
            "  Created wheel for pyswarm: filename=pyswarm-0.6-py3-none-any.whl size=4478 sha256=62ce6be75cf906dba5dfffd8165718330f89cd8aacafed4563003dd7fa65a375\n",
            "  Stored in directory: /root/.cache/pip/wheels/ff/d2/b7/80118e5698de2bd0b8d1b3397abf7fdfc45c15ffc454b52145\n",
            "Successfully built pyswarm\n",
            "Installing collected packages: pyswarm\n",
            "Successfully installed pyswarm-0.6\n"
          ]
        }
      ],
      "source": [
        "!pip install pyrsgis\n",
        "!pip install pyswarm"
      ]
    },
    {
      "cell_type": "code",
      "source": [
        "import os, math, numpy as np\n",
        "from pyrsgis import raster, convert\n",
        "from osgeo import gdal\n",
        "from copy import deepcopy\n",
        "from skimage.metrics import structural_similarity as ssim\n",
        "import matplotlib.pyplot as plt\n",
        "from pyswarm import pso\n",
        "from google.colab import drive\n",
        "\n",
        "drive.mount('/content/drive')\n",
        "f2017 = \"/content/drive/MyDrive/Capstone_Data/Bangalore_data/2017.tif\"\n",
        "f2020 = \"/content/drive/MyDrive/Capstone_Data/Bangalore_data/2020.tif\"\n",
        "road_network_path = \"/content/drive/MyDrive/Capstone_Data/Bangalore_data/road.tif\"\n",
        "pop = \"/content/drive/MyDrive/Capstone_Data/Bangalore_data/pop.tif\"\n",
        "metro = \"/content/drive/MyDrive/Capstone_Data/Bangalore_data/metro.tif\"\n",
        "\n",
        "# Read the input rasters\n",
        "road_ds,road_arr = raster.read(road_network_path,bands=1)\n",
        "ds1, arr1 = raster.read(f2017,bands=1)\n",
        "ds2,arr2 = raster.read(f2020,bands=1)\n",
        "pop_ds, pop_arr = raster.read(pop,bands=1)\n",
        "metro_ds,metro_arr = raster.read(metro,bands=1)\n",
        "\n",
        "no_rows = ds1.RasterYSize\n",
        "no_cols = ds1.RasterXSize\n",
        "kernelSize = 3\n",
        "predicted_arr = deepcopy(arr1)\n",
        "sideMargin = math.ceil(kernelSize/2)"
      ],
      "metadata": {
        "colab": {
          "base_uri": "https://localhost:8080/"
        },
        "id": "nTOwCiUdf1mO",
        "outputId": "7e15eca4-ec55-412b-f926-557f6e67b463"
      },
      "execution_count": null,
      "outputs": [
        {
          "output_type": "stream",
          "name": "stdout",
          "text": [
            "Mounted at /content/drive\n"
          ]
        }
      ]
    },
    {
      "cell_type": "code",
      "source": [
        "def fitness_function(parameters):\n",
        "\n",
        "  builtUpThreshold = parameters[0]\n",
        "  distFromRoad = parameters[1]\n",
        "  popThreshold = parameters[2]\n",
        "  metroThreshold = parameters[3]\n",
        "\n",
        "  for y in range(sideMargin,no_rows-(sideMargin-1)):\n",
        "      for x in range(sideMargin,no_cols-(sideMargin-1)):\n",
        "          kernel = arr1[y-(sideMargin-1):y+(sideMargin), x-(sideMargin-1):x+(sideMargin)]\n",
        "          builtupCount = sum(sum(kernel==1))\n",
        "          if (builtupCount >= builtUpThreshold and road_arr[y,x]<=distFromRoad and arr1[y,x]!=3 and pop_arr[y,x]>=popThreshold and metro_arr[y,x]>=metroThreshold):\n",
        "              predicted_arr[y,x]=1\n",
        "\n",
        "  ssim_score = ssim(arr2, predicted_arr,data_range=4)\n",
        "  return -ssim_score  # Return the negative value for minimization\n",
        "\n",
        "\n",
        "lb = [1,100,-100,0]\n",
        "ub = [9,300,600,900]\n",
        "\n",
        "xopt, fopt = pso(fitness_function,lb,ub, swarmsize=30, maxiter=10)"
      ],
      "metadata": {
        "id": "7nOHLt5axQXf",
        "colab": {
          "base_uri": "https://localhost:8080/"
        },
        "outputId": "23d0e73a-c68b-44f6-fdc8-51d27e266a8d"
      },
      "execution_count": null,
      "outputs": [
        {
          "output_type": "stream",
          "name": "stdout",
          "text": [
            "Stopping search: maximum iterations reached --> 10\n"
          ]
        }
      ]
    },
    {
      "cell_type": "code",
      "source": [
        "print(xopt,-fopt)"
      ],
      "metadata": {
        "colab": {
          "base_uri": "https://localhost:8080/"
        },
        "id": "l-gnL1bX5TS5",
        "outputId": "bbb83406-e36b-49de-85e5-6aed02a35fb3"
      },
      "execution_count": null,
      "outputs": [
        {
          "output_type": "stream",
          "name": "stdout",
          "text": [
            "[  7.00027176 139.08590463 209.35314159 163.04706401] 0.5416009530800527\n"
          ]
        }
      ]
    },
    {
      "cell_type": "code",
      "source": [
        "builtUpThreshold = 7\n",
        "distFromRoad = 140\n",
        "popThreshold = 210\n",
        "metroThreshold = 163\n",
        "\n",
        "for y in range(sideMargin,no_rows-(sideMargin-1)):\n",
        "    for x in range(sideMargin,no_cols-(sideMargin-1)):\n",
        "        kernel = arr1[y-(sideMargin-1):y+(sideMargin), x-(sideMargin-1):x+(sideMargin)]\n",
        "        builtupCount = sum(sum(kernel==1))\n",
        "        if (builtupCount >= builtUpThreshold and road_arr[y,x]<=distFromRoad and arr1[y,x]!=3):\n",
        "            predicted_arr[y,x]=1\n",
        "\n",
        "def exportPredicted(outFileName):\n",
        "    driver = gdal.GetDriverByName(\"GTiff\")\n",
        "    outdata = driver.Create(outFileName, no_cols, no_rows, 1, gdal.GDT_UInt16) # option: GDT_UInt16, GDT_Float32\n",
        "    outdata.SetGeoTransform(ds1.GetGeoTransform())\n",
        "    outdata.SetProjection(ds1.GetProjection())\n",
        "    outdata.GetRasterBand(1).WriteArray(predicted_arr)\n",
        "    outdata.GetRasterBand(1).SetNoDataValue(0)\n",
        "    outdata.FlushCache()\n",
        "    outdata = None\n",
        "\n",
        "print(\"SSIM:\", ssim(arr2,predicted_arr,data_range=4))\n",
        "exportPredicted(\"Bangalore_PSO_2020.tif\")"
      ],
      "metadata": {
        "id": "8zWhFZMxyevq",
        "colab": {
          "base_uri": "https://localhost:8080/"
        },
        "outputId": "16e048e5-7e95-4556-aec1-ac78b61473ab"
      },
      "execution_count": null,
      "outputs": [
        {
          "output_type": "stream",
          "name": "stdout",
          "text": [
            "SSIM: 0.5192381068392012\n"
          ]
        }
      ]
    }
  ]
}